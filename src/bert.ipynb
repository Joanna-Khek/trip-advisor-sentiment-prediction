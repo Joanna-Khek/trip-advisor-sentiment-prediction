{
 "cells": [
  {
   "cell_type": "code",
   "execution_count": 1,
   "metadata": {},
   "outputs": [
    {
     "name": "stderr",
     "output_type": "stream",
     "text": [
      "c:\\Users\\Joanna\\Desktop\\Projects\\shopper-sentiment-analysis\\.venv\\lib\\site-packages\\tqdm\\auto.py:21: TqdmWarning: IProgress not found. Please update jupyter and ipywidgets. See https://ipywidgets.readthedocs.io/en/stable/user_install.html\n",
      "  from .autonotebook import tqdm as notebook_tqdm\n"
     ]
    }
   ],
   "source": [
    "import time\n",
    "import torch\n",
    "import torch.nn.functional as F\n",
    "from torch.utils.data import DataLoader\n",
    "\n",
    "import transformers\n",
    "from transformers import DistilBertTokenizerFast\n",
    "from transformers import DistilBertForSequenceClassification\n",
    "\n",
    "from config import settings\n",
    "from train import train_model\n",
    "from utils_dataset import TripAdvisorData, CustomDataset\n",
    "from utils_evaluation import (compute_accuracy, compute_confusion_matrix, \n",
    "                              show_misclassified, plot_accuracy, plot_training_loss)\n",
    "from utils_helper import (set_up_device, set_all_seeds, \n",
    "                          clear_cuda_memory, save_model, load_model)"
   ]
  },
  {
   "cell_type": "code",
   "execution_count": 2,
   "metadata": {},
   "outputs": [],
   "source": [
    "%load_ext autoreload\n",
    "%autoreload 2"
   ]
  },
  {
   "cell_type": "markdown",
   "metadata": {},
   "source": [
    "### Set Configurations"
   ]
  },
  {
   "cell_type": "code",
   "execution_count": 3,
   "metadata": {},
   "outputs": [
    {
     "name": "stdout",
     "output_type": "stream",
     "text": [
      "cuda:0\n"
     ]
    }
   ],
   "source": [
    "DEVICE = set_up_device()\n",
    "print(DEVICE)\n",
    "NUM_EPOCHS = settings.config[\"num_epochs\"]\n",
    "BATCH_SIZE = settings.config[\"batch_size\"]\n",
    "LEARNING_RATE = settings.config[\"learning_rate\"]\n",
    "\n",
    "RANDOM_SEED = settings.config[\"random_seed\"]\n",
    "set_all_seeds(RANDOM_SEED)\n"
   ]
  },
  {
   "cell_type": "markdown",
   "metadata": {},
   "source": [
    "### Preprocess Data"
   ]
  },
  {
   "cell_type": "code",
   "execution_count": 5,
   "metadata": {},
   "outputs": [
    {
     "data": {
      "text/html": [
       "<div>\n",
       "<style scoped>\n",
       "    .dataframe tbody tr th:only-of-type {\n",
       "        vertical-align: middle;\n",
       "    }\n",
       "\n",
       "    .dataframe tbody tr th {\n",
       "        vertical-align: top;\n",
       "    }\n",
       "\n",
       "    .dataframe thead th {\n",
       "        text-align: right;\n",
       "    }\n",
       "</style>\n",
       "<table border=\"1\" class=\"dataframe\">\n",
       "  <thead>\n",
       "    <tr style=\"text-align: right;\">\n",
       "      <th></th>\n",
       "      <th>Review</th>\n",
       "      <th>Rating</th>\n",
       "      <th>num_words</th>\n",
       "      <th>label</th>\n",
       "      <th>clean_review</th>\n",
       "    </tr>\n",
       "  </thead>\n",
       "  <tbody>\n",
       "    <tr>\n",
       "      <th>0</th>\n",
       "      <td>nice hotel expensive parking got good deal sta...</td>\n",
       "      <td>4</td>\n",
       "      <td>87</td>\n",
       "      <td>1</td>\n",
       "      <td>nice hotel expensive parking get good deal sta...</td>\n",
       "    </tr>\n",
       "    <tr>\n",
       "      <th>1</th>\n",
       "      <td>ok nothing special charge diamond member hilto...</td>\n",
       "      <td>2</td>\n",
       "      <td>250</td>\n",
       "      <td>0</td>\n",
       "      <td>ok nothing special charge diamond member hilto...</td>\n",
       "    </tr>\n",
       "    <tr>\n",
       "      <th>2</th>\n",
       "      <td>unique, great stay, wonderful time hotel monac...</td>\n",
       "      <td>5</td>\n",
       "      <td>89</td>\n",
       "      <td>1</td>\n",
       "      <td>unique great stay wonderful time hotel monaco ...</td>\n",
       "    </tr>\n",
       "    <tr>\n",
       "      <th>3</th>\n",
       "      <td>great stay great stay, went seahawk game aweso...</td>\n",
       "      <td>5</td>\n",
       "      <td>191</td>\n",
       "      <td>1</td>\n",
       "      <td>great stay great stay go seahawk game awesome ...</td>\n",
       "    </tr>\n",
       "    <tr>\n",
       "      <th>4</th>\n",
       "      <td>love monaco staff husband stayed hotel crazy w...</td>\n",
       "      <td>5</td>\n",
       "      <td>134</td>\n",
       "      <td>1</td>\n",
       "      <td>love monaco staff husband stay hotel crazy wee...</td>\n",
       "    </tr>\n",
       "  </tbody>\n",
       "</table>\n",
       "</div>"
      ],
      "text/plain": [
       "                                              Review  Rating  num_words label  \\\n",
       "0  nice hotel expensive parking got good deal sta...       4         87     1   \n",
       "1  ok nothing special charge diamond member hilto...       2        250     0   \n",
       "2  unique, great stay, wonderful time hotel monac...       5         89     1   \n",
       "3  great stay great stay, went seahawk game aweso...       5        191     1   \n",
       "4  love monaco staff husband stayed hotel crazy w...       5        134     1   \n",
       "\n",
       "                                        clean_review  \n",
       "0  nice hotel expensive parking get good deal sta...  \n",
       "1  ok nothing special charge diamond member hilto...  \n",
       "2  unique great stay wonderful time hotel monaco ...  \n",
       "3  great stay great stay go seahawk game awesome ...  \n",
       "4  love monaco staff husband stay hotel crazy wee...  "
      ]
     },
     "execution_count": 5,
     "metadata": {},
     "output_type": "execute_result"
    }
   ],
   "source": [
    "trip_advisor = TripAdvisorData()\n",
    "\n",
    "raw_data = trip_advisor.read_data(data_dir=settings.DATASET_DIR,\n",
    "                                  data_name=settings.config['data_name'])\n",
    "\n",
    "clean_data = trip_advisor.preprocess(data=raw_data,\n",
    "                                     feature_var=\"Review\")\n",
    "\n",
    "clean_data.head()"
   ]
  },
  {
   "cell_type": "code",
   "execution_count": 8,
   "metadata": {},
   "outputs": [],
   "source": [
    "train_data, valid_data, test_data = trip_advisor.create_splits(clean_data,\n",
    "                                                               target_var=\"label\",\n",
    "                                                               train_prop=0.8, \n",
    "                                                               valid_prop=0.1, \n",
    "                                                               test_prop=0.1)"
   ]
  },
  {
   "cell_type": "code",
   "execution_count": 9,
   "metadata": {},
   "outputs": [],
   "source": [
    "train_texts = train_data.clean_review.values\n",
    "train_labels = train_data.label.values\n",
    "\n",
    "valid_texts = valid_data.clean_review.values\n",
    "valid_labels = valid_data.label.values\n",
    "\n",
    "test_texts = test_data.clean_review.values\n",
    "test_labels = test_data.label.values"
   ]
  },
  {
   "cell_type": "markdown",
   "metadata": {},
   "source": [
    "### Tokenization"
   ]
  },
  {
   "cell_type": "code",
   "execution_count": 10,
   "metadata": {},
   "outputs": [],
   "source": [
    "tokenizer = DistilBertTokenizerFast.from_pretrained(\"distilbert-base-uncased\")"
   ]
  },
  {
   "cell_type": "code",
   "execution_count": 11,
   "metadata": {},
   "outputs": [],
   "source": [
    "train_encodings = tokenizer(list(train_texts), truncation=True, padding=True)\n",
    "valid_encodings = tokenizer(list(valid_texts), truncation=True, padding=True)\n",
    "test_encodings = tokenizer(list(test_texts), truncation=True, padding=True)"
   ]
  },
  {
   "cell_type": "markdown",
   "metadata": {},
   "source": [
    "### Dataset Class and Loaders"
   ]
  },
  {
   "cell_type": "code",
   "execution_count": 12,
   "metadata": {},
   "outputs": [],
   "source": [
    "train_dataset = CustomDataset(encodings=train_encodings,\n",
    "                                 labels=train_labels)\n",
    "\n",
    "valid_dataset = CustomDataset(encodings=valid_encodings,\n",
    "                                 labels=valid_labels)\n",
    "\n",
    "test_dataset = CustomDataset(encodings=test_encodings,\n",
    "                                 labels=test_labels)"
   ]
  },
  {
   "cell_type": "code",
   "execution_count": 13,
   "metadata": {},
   "outputs": [],
   "source": [
    "train_loader = DataLoader(train_dataset, batch_size=BATCH_SIZE, shuffle=True)\n",
    "valid_loader = DataLoader(valid_dataset, batch_size=BATCH_SIZE, shuffle=False)\n",
    "test_loader = DataLoader(test_dataset, batch_size=BATCH_SIZE, shuffle=False)"
   ]
  },
  {
   "cell_type": "markdown",
   "metadata": {},
   "source": [
    "### Train Model"
   ]
  },
  {
   "cell_type": "code",
   "execution_count": 14,
   "metadata": {},
   "outputs": [
    {
     "name": "stderr",
     "output_type": "stream",
     "text": [
      "Some weights of DistilBertForSequenceClassification were not initialized from the model checkpoint at distilbert-base-uncased and are newly initialized: ['classifier.weight', 'pre_classifier.weight', 'pre_classifier.bias', 'classifier.bias']\n",
      "You should probably TRAIN this model on a down-stream task to be able to use it for predictions and inference.\n"
     ]
    }
   ],
   "source": [
    "model = DistilBertForSequenceClassification.from_pretrained('distilbert-base-uncased')\n",
    "model.to(DEVICE)\n",
    "\n",
    "optim = torch.optim.Adam(model.parameters(), lr=LEARNING_RATE)"
   ]
  },
  {
   "cell_type": "code",
   "execution_count": 15,
   "metadata": {},
   "outputs": [],
   "source": [
    "clear_cuda_memory()"
   ]
  },
  {
   "cell_type": "code",
   "execution_count": 16,
   "metadata": {},
   "outputs": [
    {
     "name": "stdout",
     "output_type": "stream",
     "text": [
      "Epoch: 001/005 | Batch 0000/1831 | Loss: 0.7005\n",
      "Epoch: 001/005 | Batch 0100/1831 | Loss: 0.3442\n",
      "Epoch: 001/005 | Batch 0200/1831 | Loss: 0.0931\n",
      "Epoch: 001/005 | Batch 0300/1831 | Loss: 0.0375\n",
      "Epoch: 001/005 | Batch 0400/1831 | Loss: 0.2138\n",
      "Epoch: 001/005 | Batch 0500/1831 | Loss: 0.2505\n",
      "Epoch: 001/005 | Batch 0600/1831 | Loss: 0.2313\n",
      "Epoch: 001/005 | Batch 0700/1831 | Loss: 0.1465\n",
      "Epoch: 001/005 | Batch 0800/1831 | Loss: 0.3054\n",
      "Epoch: 001/005 | Batch 0900/1831 | Loss: 0.0121\n",
      "Epoch: 001/005 | Batch 1000/1831 | Loss: 0.1325\n",
      "Epoch: 001/005 | Batch 1100/1831 | Loss: 0.0205\n",
      "Epoch: 001/005 | Batch 1200/1831 | Loss: 0.0415\n",
      "Epoch: 001/005 | Batch 1300/1831 | Loss: 0.0117\n",
      "Epoch: 001/005 | Batch 1400/1831 | Loss: 0.0406\n",
      "Epoch: 001/005 | Batch 1500/1831 | Loss: 0.4915\n",
      "Epoch: 001/005 | Batch 1600/1831 | Loss: 0.3236\n",
      "Epoch: 001/005 | Batch 1700/1831 | Loss: 0.0014\n",
      "Epoch: 001/005 | Batch 1800/1831 | Loss: 0.1154\n",
      "Epoch: 001/005 | Train: 0.98% | Validation: 0.96%\n",
      "Time elapsed: 11.68 min\n",
      "Epoch: 002/005 | Batch 0000/1831 | Loss: 0.1193\n",
      "Epoch: 002/005 | Batch 0100/1831 | Loss: 0.0404\n",
      "Epoch: 002/005 | Batch 0200/1831 | Loss: 0.0193\n",
      "Epoch: 002/005 | Batch 0300/1831 | Loss: 0.0183\n",
      "Epoch: 002/005 | Batch 0400/1831 | Loss: 0.0034\n",
      "Epoch: 002/005 | Batch 0500/1831 | Loss: 0.0201\n",
      "Epoch: 002/005 | Batch 0600/1831 | Loss: 0.0028\n",
      "Epoch: 002/005 | Batch 0700/1831 | Loss: 0.0012\n",
      "Epoch: 002/005 | Batch 0800/1831 | Loss: 0.0508\n",
      "Epoch: 002/005 | Batch 0900/1831 | Loss: 0.1006\n",
      "Epoch: 002/005 | Batch 1000/1831 | Loss: 0.0753\n",
      "Epoch: 002/005 | Batch 1100/1831 | Loss: 0.0446\n",
      "Epoch: 002/005 | Batch 1200/1831 | Loss: 0.0438\n",
      "Epoch: 002/005 | Batch 1300/1831 | Loss: 0.0063\n",
      "Epoch: 002/005 | Batch 1400/1831 | Loss: 0.2629\n",
      "Epoch: 002/005 | Batch 1500/1831 | Loss: 0.0177\n",
      "Epoch: 002/005 | Batch 1600/1831 | Loss: 0.0145\n",
      "Epoch: 002/005 | Batch 1700/1831 | Loss: 0.0131\n",
      "Epoch: 002/005 | Batch 1800/1831 | Loss: 0.0736\n",
      "Epoch: 002/005 | Train: 0.97% | Validation: 0.94%\n",
      "Time elapsed: 23.35 min\n",
      "Epoch: 003/005 | Batch 0000/1831 | Loss: 0.6371\n",
      "Epoch: 003/005 | Batch 0100/1831 | Loss: 0.0006\n",
      "Epoch: 003/005 | Batch 0200/1831 | Loss: 0.0326\n",
      "Epoch: 003/005 | Batch 0300/1831 | Loss: 0.0007\n",
      "Epoch: 003/005 | Batch 0400/1831 | Loss: 0.0046\n",
      "Epoch: 003/005 | Batch 0500/1831 | Loss: 0.0475\n",
      "Epoch: 003/005 | Batch 0600/1831 | Loss: 0.0008\n",
      "Epoch: 003/005 | Batch 0700/1831 | Loss: 0.0359\n",
      "Epoch: 003/005 | Batch 0800/1831 | Loss: 0.0023\n",
      "Epoch: 003/005 | Batch 0900/1831 | Loss: 0.0009\n",
      "Epoch: 003/005 | Batch 1000/1831 | Loss: 0.0003\n",
      "Epoch: 003/005 | Batch 1100/1831 | Loss: 0.0049\n",
      "Epoch: 003/005 | Batch 1200/1831 | Loss: 0.0029\n",
      "Epoch: 003/005 | Batch 1300/1831 | Loss: 0.0034\n",
      "Epoch: 003/005 | Batch 1400/1831 | Loss: 0.0131\n",
      "Epoch: 003/005 | Batch 1500/1831 | Loss: 0.1531\n",
      "Epoch: 003/005 | Batch 1600/1831 | Loss: 0.0017\n",
      "Epoch: 003/005 | Batch 1700/1831 | Loss: 0.0005\n",
      "Epoch: 003/005 | Batch 1800/1831 | Loss: 0.0583\n",
      "Epoch: 003/005 | Train: 1.00% | Validation: 0.96%\n",
      "Time elapsed: 35.02 min\n",
      "Epoch: 004/005 | Batch 0000/1831 | Loss: 0.0021\n",
      "Epoch: 004/005 | Batch 0100/1831 | Loss: 0.0006\n",
      "Epoch: 004/005 | Batch 0200/1831 | Loss: 0.0024\n",
      "Epoch: 004/005 | Batch 0300/1831 | Loss: 0.0014\n",
      "Epoch: 004/005 | Batch 0400/1831 | Loss: 0.0288\n",
      "Epoch: 004/005 | Batch 0500/1831 | Loss: 0.0729\n",
      "Epoch: 004/005 | Batch 0600/1831 | Loss: 0.0016\n",
      "Epoch: 004/005 | Batch 0700/1831 | Loss: 0.0005\n",
      "Epoch: 004/005 | Batch 0800/1831 | Loss: 0.0009\n",
      "Epoch: 004/005 | Batch 0900/1831 | Loss: 0.0001\n",
      "Epoch: 004/005 | Batch 1000/1831 | Loss: 0.0002\n",
      "Epoch: 004/005 | Batch 1100/1831 | Loss: 0.0032\n",
      "Epoch: 004/005 | Batch 1200/1831 | Loss: 0.0040\n",
      "Epoch: 004/005 | Batch 1300/1831 | Loss: 0.0135\n",
      "Epoch: 004/005 | Batch 1400/1831 | Loss: 0.0014\n",
      "Epoch: 004/005 | Batch 1500/1831 | Loss: 0.0049\n",
      "Epoch: 004/005 | Batch 1600/1831 | Loss: 0.0018\n",
      "Epoch: 004/005 | Batch 1700/1831 | Loss: 0.0045\n",
      "Epoch: 004/005 | Batch 1800/1831 | Loss: 0.0004\n",
      "Epoch: 004/005 | Train: 1.00% | Validation: 0.96%\n",
      "Time elapsed: 46.74 min\n",
      "Epoch: 005/005 | Batch 0000/1831 | Loss: 0.0336\n",
      "Epoch: 005/005 | Batch 0100/1831 | Loss: 0.0012\n",
      "Epoch: 005/005 | Batch 0200/1831 | Loss: 0.0006\n",
      "Epoch: 005/005 | Batch 0300/1831 | Loss: 0.0001\n",
      "Epoch: 005/005 | Batch 0400/1831 | Loss: 0.0008\n",
      "Epoch: 005/005 | Batch 0500/1831 | Loss: 0.0002\n",
      "Epoch: 005/005 | Batch 0600/1831 | Loss: 0.0006\n",
      "Epoch: 005/005 | Batch 0700/1831 | Loss: 0.0009\n",
      "Epoch: 005/005 | Batch 0800/1831 | Loss: 0.0005\n",
      "Epoch: 005/005 | Batch 0900/1831 | Loss: 0.0034\n",
      "Epoch: 005/005 | Batch 1000/1831 | Loss: 0.0064\n",
      "Epoch: 005/005 | Batch 1100/1831 | Loss: 0.0243\n",
      "Epoch: 005/005 | Batch 1200/1831 | Loss: 0.0007\n",
      "Epoch: 005/005 | Batch 1300/1831 | Loss: 0.0593\n",
      "Epoch: 005/005 | Batch 1400/1831 | Loss: 0.0191\n",
      "Epoch: 005/005 | Batch 1500/1831 | Loss: 0.0005\n",
      "Epoch: 005/005 | Batch 1600/1831 | Loss: 0.0013\n",
      "Epoch: 005/005 | Batch 1700/1831 | Loss: 0.0045\n",
      "Epoch: 005/005 | Batch 1800/1831 | Loss: 0.0049\n",
      "Epoch: 005/005 | Train: 1.00% | Validation: 0.96%\n",
      "Time elapsed: 58.42 min\n",
      "Total Training Time: 58.42 min\n",
      "Test accuracy 0.96%\n"
     ]
    }
   ],
   "source": [
    "minibatch_loss_list, train_acc_list, valid_acc_list = train_model(model=model,\n",
    "                                                                  num_epochs=NUM_EPOCHS,\n",
    "                                                                  train_loader=train_loader,\n",
    "                                                                  valid_loader=valid_loader,\n",
    "                                                                  test_loader=test_loader,\n",
    "                                                                  optimizer=optim,\n",
    "                                                                  device=DEVICE,\n",
    "                                                                  logging_interval=100)"
   ]
  },
  {
   "cell_type": "code",
   "execution_count": 17,
   "metadata": {},
   "outputs": [
    {
     "data": {
      "image/png": "[encoded data removed]",
      "text/plain": [
       "<Figure size 640x480 with 2 Axes>"
      ]
     },
     "metadata": {},
     "output_type": "display_data"
    }
   ],
   "source": [
    "plot_training_loss(minibatch_loss_list=minibatch_loss_list,\n",
    "                   num_epochs=NUM_EPOCHS,\n",
    "                   iter_per_epoch=len(train_loader),\n",
    "                   results_dir=None,\n",
    "                   averaging_iterations=50)"
   ]
  },
  {
   "cell_type": "code",
   "execution_count": 18,
   "metadata": {},
   "outputs": [
    {
     "data": {
      "image/png": "[encoded data removed]",
      "text/plain": [
       "<Figure size 640x480 with 1 Axes>"
      ]
     },
     "metadata": {},
     "output_type": "display_data"
    }
   ],
   "source": [
    "plot_accuracy(train_acc_list=train_acc_list,\n",
    "              valid_acc_list=valid_acc_list,\n",
    "              results_dir=None)"
   ]
  },
  {
   "cell_type": "code",
   "execution_count": 19,
   "metadata": {},
   "outputs": [
    {
     "name": "stdout",
     "output_type": "stream",
     "text": [
      "[INFO] Saving model to: C:\\Users\\Joanna\\Desktop\\Projects\\shopper-sentiment-analysis\\models\\model.pt\n",
      "[INFO] Saving model to: C:\\Users\\Joanna\\Desktop\\Projects\\shopper-sentiment-analysis\\models\\optimizer.pt\n"
     ]
    }
   ],
   "source": [
    "save_model(model=model, target_dir=settings.TRAINED_MODEL_DIR, model_name=\"model.pt\")\n",
    "save_model(model=optim, target_dir=settings.TRAINED_MODEL_DIR, model_name=\"optimizer.pt\")"
   ]
  },
  {
   "cell_type": "code",
   "execution_count": 24,
   "metadata": {},
   "outputs": [
    {
     "name": "stdout",
     "output_type": "stream",
     "text": [
      "[INFO] Loading model: models\\model.pt\n",
      "[INFO] Loading model: models\\optimizer.pt\n"
     ]
    }
   ],
   "source": [
    "# load_model(model=model, target_dir=\"models\", model_name=\"model.pt\")\n",
    "# load_model(model=optim, target_dir=\"models\", model_name=\"optimizer.pt\")"
   ]
  },
  {
   "cell_type": "code",
   "execution_count": 20,
   "metadata": {},
   "outputs": [
    {
     "name": "stdout",
     "output_type": "stream",
     "text": [
      "              precision    recall  f1-score   support\n",
      "\n",
      "           0       0.84      0.94      0.88       286\n",
      "           1       0.99      0.97      0.98      1546\n",
      "\n",
      "    accuracy                           0.96      1832\n",
      "   macro avg       0.91      0.95      0.93      1832\n",
      "weighted avg       0.96      0.96      0.96      1832\n",
      "\n",
      "<sklearn.metrics._plot.confusion_matrix.ConfusionMatrixDisplay object at 0x0000028D5231F0D0>\n"
     ]
    },
    {
     "data": {
      "image/png": "[encoded data removed]",
      "text/plain": [
       "<Figure size 640x480 with 2 Axes>"
      ]
     },
     "metadata": {},
     "output_type": "display_data"
    }
   ],
   "source": [
    "compute_confusion_matrix(model=model,\n",
    "                         data_loader=test_loader,\n",
    "                         device=DEVICE)"
   ]
  },
  {
   "cell_type": "markdown",
   "metadata": {},
   "source": [
    "### Show misclassified reviews"
   ]
  },
  {
   "cell_type": "code",
   "execution_count": 21,
   "metadata": {},
   "outputs": [],
   "source": [
    "df_error = show_misclassified(model=model,\n",
    "                              data_loader=test_loader,\n",
    "                              device=DEVICE,\n",
    "                              tokenizer=tokenizer)"
   ]
  },
  {
   "cell_type": "code",
   "execution_count": 22,
   "metadata": {},
   "outputs": [
    {
     "data": {
      "text/html": [
       "<div>\n",
       "<style scoped>\n",
       "    .dataframe tbody tr th:only-of-type {\n",
       "        vertical-align: middle;\n",
       "    }\n",
       "\n",
       "    .dataframe tbody tr th {\n",
       "        vertical-align: top;\n",
       "    }\n",
       "\n",
       "    .dataframe thead th {\n",
       "        text-align: right;\n",
       "    }\n",
       "</style>\n",
       "<table border=\"1\" class=\"dataframe\">\n",
       "  <thead>\n",
       "    <tr style=\"text-align: right;\">\n",
       "      <th></th>\n",
       "      <th>text</th>\n",
       "      <th>true_label</th>\n",
       "      <th>pred_label</th>\n",
       "      <th>probability</th>\n",
       "    </tr>\n",
       "  </thead>\n",
       "  <tbody>\n",
       "    <tr>\n",
       "      <th>0</th>\n",
       "      <td>class glitch review pan pacific hotel singapor...</td>\n",
       "      <td>1</td>\n",
       "      <td>0</td>\n",
       "      <td>[tensor(0.9946), tensor(0.0054)]</td>\n",
       "    </tr>\n",
       "    <tr>\n",
       "      <th>1</th>\n",
       "      <td>royal club wife stay dec 04 - jan 05. firstly ...</td>\n",
       "      <td>1</td>\n",
       "      <td>0</td>\n",
       "      <td>[tensor(0.6854), tensor(0.3146)]</td>\n",
       "    </tr>\n",
       "    <tr>\n",
       "      <th>2</th>\n",
       "      <td>funky econo room good hotel careful not econom...</td>\n",
       "      <td>1</td>\n",
       "      <td>0</td>\n",
       "      <td>[tensor(0.9746), tensor(0.0254)]</td>\n",
       "    </tr>\n",
       "    <tr>\n",
       "      <th>3</th>\n",
       "      <td>ok slightly rough edge book club room intercon...</td>\n",
       "      <td>1</td>\n",
       "      <td>0</td>\n",
       "      <td>[tensor(0.9971), tensor(0.0029)]</td>\n",
       "    </tr>\n",
       "    <tr>\n",
       "      <th>4</th>\n",
       "      <td>great time talk terrible problem bug mosquito ...</td>\n",
       "      <td>1</td>\n",
       "      <td>0</td>\n",
       "      <td>[tensor(0.8676), tensor(0.1324)]</td>\n",
       "    </tr>\n",
       "    <tr>\n",
       "      <th>...</th>\n",
       "      <td>...</td>\n",
       "      <td>...</td>\n",
       "      <td>...</td>\n",
       "      <td>...</td>\n",
       "    </tr>\n",
       "    <tr>\n",
       "      <th>65</th>\n",
       "      <td>clean room that s let say upfront get room qua...</td>\n",
       "      <td>0</td>\n",
       "      <td>1</td>\n",
       "      <td>[tensor(0.0004), tensor(0.9996)]</td>\n",
       "    </tr>\n",
       "    <tr>\n",
       "      <th>66</th>\n",
       "      <td>snug twin book chesterfield read review site t...</td>\n",
       "      <td>0</td>\n",
       "      <td>1</td>\n",
       "      <td>[tensor(0.0972), tensor(0.9028)]</td>\n",
       "    </tr>\n",
       "    <tr>\n",
       "      <th>67</th>\n",
       "      <td>ocean blue disappointing seasoned traveler inc...</td>\n",
       "      <td>0</td>\n",
       "      <td>1</td>\n",
       "      <td>[tensor(0.0011), tensor(0.9989)]</td>\n",
       "    </tr>\n",
       "    <tr>\n",
       "      <th>68</th>\n",
       "      <td>pro con pet friendly palomar palomar old hilto...</td>\n",
       "      <td>0</td>\n",
       "      <td>1</td>\n",
       "      <td>[tensor(0.1273), tensor(0.8727)]</td>\n",
       "    </tr>\n",
       "    <tr>\n",
       "      <th>69</th>\n",
       "      <td>excellence excellence husband honeymoon excell...</td>\n",
       "      <td>0</td>\n",
       "      <td>1</td>\n",
       "      <td>[tensor(0.0289), tensor(0.9711)]</td>\n",
       "    </tr>\n",
       "  </tbody>\n",
       "</table>\n",
       "<p>70 rows × 4 columns</p>\n",
       "</div>"
      ],
      "text/plain": [
       "                                                 text  true_label  pred_label  \\\n",
       "0   class glitch review pan pacific hotel singapor...           1           0   \n",
       "1   royal club wife stay dec 04 - jan 05. firstly ...           1           0   \n",
       "2   funky econo room good hotel careful not econom...           1           0   \n",
       "3   ok slightly rough edge book club room intercon...           1           0   \n",
       "4   great time talk terrible problem bug mosquito ...           1           0   \n",
       "..                                                ...         ...         ...   \n",
       "65  clean room that s let say upfront get room qua...           0           1   \n",
       "66  snug twin book chesterfield read review site t...           0           1   \n",
       "67  ocean blue disappointing seasoned traveler inc...           0           1   \n",
       "68  pro con pet friendly palomar palomar old hilto...           0           1   \n",
       "69  excellence excellence husband honeymoon excell...           0           1   \n",
       "\n",
       "                         probability  \n",
       "0   [tensor(0.9946), tensor(0.0054)]  \n",
       "1   [tensor(0.6854), tensor(0.3146)]  \n",
       "2   [tensor(0.9746), tensor(0.0254)]  \n",
       "3   [tensor(0.9971), tensor(0.0029)]  \n",
       "4   [tensor(0.8676), tensor(0.1324)]  \n",
       "..                               ...  \n",
       "65  [tensor(0.0004), tensor(0.9996)]  \n",
       "66  [tensor(0.0972), tensor(0.9028)]  \n",
       "67  [tensor(0.0011), tensor(0.9989)]  \n",
       "68  [tensor(0.1273), tensor(0.8727)]  \n",
       "69  [tensor(0.0289), tensor(0.9711)]  \n",
       "\n",
       "[70 rows x 4 columns]"
      ]
     },
     "execution_count": 22,
     "metadata": {},
     "output_type": "execute_result"
    }
   ],
   "source": [
    "df_error"
   ]
  }
 ],
 "metadata": {
  "kernelspec": {
   "display_name": ".venv",
   "language": "python",
   "name": "python3"
  },
  "language_info": {
   "codemirror_mode": {
    "name": "ipython",
    "version": 3
   },
   "file_extension": ".py",
   "mimetype": "text/x-python",
   "name": "python",
   "nbconvert_exporter": "python",
   "pygments_lexer": "ipython3",
   "version": "3.9.13"
  }
 },
 "nbformat": 4,
 "nbformat_minor": 2
}
